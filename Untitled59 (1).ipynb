{
  "nbformat": 4,
  "nbformat_minor": 0,
  "metadata": {
    "colab": {
      "provenance": []
    },
    "kernelspec": {
      "name": "python3",
      "display_name": "Python 3"
    },
    "language_info": {
      "name": "python"
    }
  },
  "cells": [
    {
      "cell_type": "code",
      "execution_count": null,
      "metadata": {
        "id": "BLB0AGhO8pCE"
      },
      "outputs": [],
      "source": []
    },
    {
      "cell_type": "markdown",
      "source": [
        "Q1. What are the three measures of central tendency?"
      ],
      "metadata": {
        "id": "9jluLu4G92Dj"
      }
    },
    {
      "cell_type": "markdown",
      "source": [
        "The three measures of central tendency are:\n",
        "\n",
        "Mean: The mean is the average of a set of values. It is obtained by summing up all the values in the set and dividing the result by the number of values in the set. The mean is sensitive to outliers, meaning that a few extreme values in the set can significantly affect the value of the mean.\n",
        "\n",
        "Median: The median is the middle value in a set of values that are arranged in order of magnitude. If there are an odd number of values in the set, the median is the middle value. If there are an even number of values in the set, the median is the average of the two middle values. The median is less sensitive to outliers than the mean.\n",
        "\n",
        "Mode: The mode is the value that occurs most frequently in a set of values. If no value occurs more than once in the set, then the set has no mode. The mode is less commonly used than the mean and median, but it can be useful in certain situations, such as when dealing with categorical data.\n",
        "\n",
        "\n",
        "\n",
        "\n",
        "\n"
      ],
      "metadata": {
        "id": "hNJeOFhx8qFA"
      }
    },
    {
      "cell_type": "markdown",
      "source": [
        "Q2. What is the difference between the mean, median, and mode? How are they used to measure the\n",
        "central tendency of a dataset?"
      ],
      "metadata": {
        "id": "K5AHuDbY95QD"
      }
    },
    {
      "cell_type": "markdown",
      "source": [
        "Calculation method: The mean is calculated by adding up all the values in a dataset and dividing by the total number of values. The median is the middle value of a dataset when it is sorted in order of magnitude. The mode is the most frequently occurring value in a dataset.\n",
        "\n",
        "Sensitivity to outliers: The mean is sensitive to outliers, which means that a few extreme values in a dataset can significantly affect the value of the mean. The median is less sensitive to outliers than the mean. The mode is not affected by outliers at all.\n",
        "\n",
        "Applicability: The mean is useful for datasets that are normally distributed, or have a symmetrical distribution. The median is more appropriate for datasets that are skewed, or have extreme values that are far from the center of the distribution. The mode is useful for datasets that have distinct peaks or modes, such as categorical data.\n",
        "\n",
        "Overall, the choice of measure depends on the nature of the dataset and the purpose of the analysis. Mean, median, and mode are all useful tools for describing the central tendency of a dataset, and each has its own advantages and limitations."
      ],
      "metadata": {
        "id": "kvHQQM1O99nj"
      }
    },
    {
      "cell_type": "markdown",
      "source": [
        "Q3. Measure the three measures of central tendency for the given height data:\n",
        "[178,177,176,177,178.2,178,175,179,180,175,178.9,176.2,177,172.5,178,176.5]"
      ],
      "metadata": {
        "id": "eGtYlaVG-wYB"
      }
    },
    {
      "cell_type": "code",
      "source": [
        "data = [178,177,176,177,178.2,178,175,179,180,175,178.9,176.2,177,172.5,178,176.5]"
      ],
      "metadata": {
        "id": "S2hqHtBp-04i"
      },
      "execution_count": null,
      "outputs": []
    },
    {
      "cell_type": "code",
      "source": [
        "import numpy as np "
      ],
      "metadata": {
        "id": "nYmGGrDW-5Ei"
      },
      "execution_count": null,
      "outputs": []
    },
    {
      "cell_type": "code",
      "source": [
        "# mean of data \n",
        "np.mean(data)"
      ],
      "metadata": {
        "colab": {
          "base_uri": "https://localhost:8080/"
        },
        "id": "CfrzSlOP--JV",
        "outputId": "f7968aa6-06d2-40fe-ba44-454c4c68de85"
      },
      "execution_count": null,
      "outputs": [
        {
          "output_type": "execute_result",
          "data": {
            "text/plain": [
              "177.01875"
            ]
          },
          "metadata": {},
          "execution_count": 3
        }
      ]
    },
    {
      "cell_type": "code",
      "source": [
        "#median of data\n",
        "np.median(data)"
      ],
      "metadata": {
        "colab": {
          "base_uri": "https://localhost:8080/"
        },
        "id": "w0pErxUC_Gf7",
        "outputId": "83ce623a-17a3-4448-cda6-e12f9f550cff"
      },
      "execution_count": null,
      "outputs": [
        {
          "output_type": "execute_result",
          "data": {
            "text/plain": [
              "177.0"
            ]
          },
          "metadata": {},
          "execution_count": 4
        }
      ]
    },
    {
      "cell_type": "code",
      "source": [
        "from scipy import stats\n"
      ],
      "metadata": {
        "id": "_FLJmLAm_OCa"
      },
      "execution_count": null,
      "outputs": []
    },
    {
      "cell_type": "code",
      "source": [
        "# calulating mode\n",
        "stats.mode(data)"
      ],
      "metadata": {
        "colab": {
          "base_uri": "https://localhost:8080/"
        },
        "id": "5jwk7GSD_ZYb",
        "outputId": "9faab925-e62d-4399-8c44-0f6805a3033e"
      },
      "execution_count": null,
      "outputs": [
        {
          "output_type": "stream",
          "name": "stderr",
          "text": [
            "<ipython-input-7-320ed96d52cd>:2: FutureWarning: Unlike other reduction functions (e.g. `skew`, `kurtosis`), the default behavior of `mode` typically preserves the axis it acts along. In SciPy 1.11.0, this behavior will change: the default value of `keepdims` will become False, the `axis` over which the statistic is taken will be eliminated, and the value None will no longer be accepted. Set `keepdims` to True or False to avoid this warning.\n",
            "  stats.mode(data)\n"
          ]
        },
        {
          "output_type": "execute_result",
          "data": {
            "text/plain": [
              "ModeResult(mode=array([177.]), count=array([3]))"
            ]
          },
          "metadata": {},
          "execution_count": 7
        }
      ]
    },
    {
      "cell_type": "markdown",
      "source": [
        "Q4. Find the standard deviation for the given data:\n",
        "[178,177,176,177,178.2,178,175,179,180,175,178.9,176.2,177,172.5,178,176.5]"
      ],
      "metadata": {
        "id": "gBoUwoBQ_32S"
      }
    },
    {
      "cell_type": "code",
      "source": [
        "data =  [178,177,176,177,178.2,178,175,179,180,175,178.9,176.2,177,172.5,178,176.5]"
      ],
      "metadata": {
        "id": "Y2TC1rEP_5C4"
      },
      "execution_count": null,
      "outputs": []
    },
    {
      "cell_type": "code",
      "source": [
        "import numpy as np"
      ],
      "metadata": {
        "id": "uCUpYTOC_8_k"
      },
      "execution_count": null,
      "outputs": []
    },
    {
      "cell_type": "code",
      "source": [
        "np.std(data) # calculation of the standard deviation"
      ],
      "metadata": {
        "colab": {
          "base_uri": "https://localhost:8080/"
        },
        "id": "V7r6ufWlAAsQ",
        "outputId": "7a87b208-a846-4a61-f12d-a3e2dc7668d2"
      },
      "execution_count": null,
      "outputs": [
        {
          "output_type": "execute_result",
          "data": {
            "text/plain": [
              "1.7885814036548633"
            ]
          },
          "metadata": {},
          "execution_count": 10
        }
      ]
    },
    {
      "cell_type": "markdown",
      "source": [
        "Q5. How are measures of dispersion such as range, variance, and standard deviation used to describe\n",
        "the spread of a dataset? Provide an example."
      ],
      "metadata": {
        "id": "-AuxonaaMnWH"
      }
    },
    {
      "cell_type": "markdown",
      "source": [
        "Measures of dispersion are used to describe the degree of variability or spread of a dataset. The three commonly used measures of dispersion are range, variance, and standard deviation.\n",
        "\n",
        "Range refers to the difference between the maximum and minimum values in a dataset. It is the simplest measure of dispersion and provides a quick estimate of the spread of the data. For example, if we have a dataset of test scores that range from 50 to 100, the range would be 50.\n",
        "\n",
        "Variance is the average of the squared differences from the mean. It measures how far the data points are from the mean of the dataset. A high variance indicates that the data points are spread out over a wide range of values. A low variance indicates that the data points are clustered around the mean. For example, if we have a dataset of test scores with a mean of 80 and a variance of 100, we can say that the data points are spread out from the mean.\n",
        "\n",
        "Standard deviation is the square root of the variance. It is a more commonly used measure of dispersion as it is expressed in the same units as the mean. A high standard deviation indicates that the data points are spread out over a wide range of values, while a low standard deviation indicates that the data points are clustered around the mean. For example, if we have a dataset of test scores with a mean of 80 and a standard deviation of 10, we can say that the data points are spread out from the mean by approximately 10 points.\n",
        "\n",
        "In summary, measures of dispersion such as range, variance, and standard deviation provide valuable insights into the spread of a dataset and help us to understand how the data points are distributed around the mean."
      ],
      "metadata": {
        "id": "LyhYDps7Mp_N"
      }
    },
    {
      "cell_type": "markdown",
      "source": [
        "Q6. What is a Venn diagram?"
      ],
      "metadata": {
        "id": "Zv44JQoAN0fi"
      }
    },
    {
      "cell_type": "markdown",
      "source": [
        "\n",
        "A Venn diagram is a graphical representation of the relationships between different sets of data. It consists of one or more circles or ovals that intersect with each other to show the similarities and differences between the sets.\n",
        "\n",
        "In a Venn diagram, each circle or oval represents a set, and the overlapping area between the circles represents the elements that belong to both sets. The non-overlapping areas of the circles represent the elements that belong exclusively to each set.\n",
        "\n",
        "Venn diagrams are commonly used in mathematics, logic, and statistics to visualize the relationships between sets of data and to help solve problems related to set theory. They are also used in various fields such as business, education, and science to compare and contrast different concepts and ideas.\n"
      ],
      "metadata": {
        "id": "xM16jv5JMvSw"
      }
    },
    {
      "cell_type": "markdown",
      "source": [
        "Q7. For the two given sets A = (2,3,4,5,6,7) & B = (0,2,6,8,10). Find:\n",
        "(i) A ⋂ B\n",
        "(ii) A ⋃ B"
      ],
      "metadata": {
        "id": "dmSiBZmHN3mI"
      }
    },
    {
      "cell_type": "markdown",
      "source": [
        "To find A ⋂ B, we need to identify the elements that are present in both sets A and B.\n",
        "\n",
        "A = (2,3,4,5,6,7) and B = (0,2,6,8,10)\n",
        "\n",
        "So, A ⋂ B = {2,6}\n",
        "\n",
        "(ii) A ⋃ B represents the union of sets A and B, which contains all the elements present in both sets, without any repetition.\n",
        "\n",
        "To find A ⋃ B, we need to combine all the elements of both sets A and B, while removing any duplicates.\n",
        "\n",
        "A = (2,3,4,5,6,7) and B = (0,2,6,8,10)\n",
        "\n",
        "So, A ⋃ B = {0,2,3,4,5,6,7,8,10}\n",
        "\n",
        "\n",
        "\n",
        "\n",
        "Bhushan Bhawarkar\n",
        "how to find in python\n",
        "In Python, we can use the set data type and its built-in methods to find the intersection and union of two sets. Here's an example:\n",
        "\n",
        "python\n",
        "Copy code\n",
        "# Define sets A and B\n",
        "A = {2, 3, 4, 5, 6, 7}\n",
        "B = {0, 2, 6, 8, 10}\n",
        "\n",
        "# Find the intersection of A and B\n",
        "intersection = A.intersection(B)\n",
        "print(\"Intersection of A and B:\", intersection)\n",
        "\n",
        "# Find the union of A and B\n",
        "union = A.union(B)\n",
        "print(\"Union of A and B:\", union)\n",
        "The output\n",
        "\n",
        "\n",
        "\n"
      ],
      "metadata": {
        "id": "_fqzHXxBN_YH"
      }
    },
    {
      "cell_type": "code",
      "source": [
        "A = {2,3,4,5,6,7}\n",
        "B = {0,2,6,8,10}"
      ],
      "metadata": {
        "id": "1YvrSwF-OsDM"
      },
      "execution_count": 11,
      "outputs": []
    },
    {
      "cell_type": "code",
      "source": [
        "intersection = A.intersection(B)"
      ],
      "metadata": {
        "id": "8vv7XCuJO2Fy"
      },
      "execution_count": 12,
      "outputs": []
    },
    {
      "cell_type": "code",
      "source": [
        "intersection = A.intersection(B)\n",
        "intersection"
      ],
      "metadata": {
        "colab": {
          "base_uri": "https://localhost:8080/"
        },
        "id": "ikqmUDl7PGTN",
        "outputId": "6ae84c8d-786e-4512-8890-818a49ae0d24"
      },
      "execution_count": 14,
      "outputs": [
        {
          "output_type": "execute_result",
          "data": {
            "text/plain": [
              "{2, 6}"
            ]
          },
          "metadata": {},
          "execution_count": 14
        }
      ]
    },
    {
      "cell_type": "code",
      "source": [
        "union = A.union(B)\n",
        "union"
      ],
      "metadata": {
        "colab": {
          "base_uri": "https://localhost:8080/"
        },
        "id": "gZCZx_SEPQIz",
        "outputId": "e67ca871-9b97-4d08-8bb7-0e93e5c9812a"
      },
      "execution_count": 16,
      "outputs": [
        {
          "output_type": "execute_result",
          "data": {
            "text/plain": [
              "{0, 2, 3, 4, 5, 6, 7, 8, 10}"
            ]
          },
          "metadata": {},
          "execution_count": 16
        }
      ]
    },
    {
      "cell_type": "markdown",
      "source": [
        "Q8. What do you understand about skewness in data?"
      ],
      "metadata": {
        "id": "bNjQW3riiaLy"
      }
    },
    {
      "cell_type": "markdown",
      "source": [
        "Skewness is a measure of the asymmetry of a probability distribution, or in other words, it measures the extent to which a distribution is not symmetric. Skewness can occur in both univariate and multivariate data.\n",
        "\n",
        "In a univariate dataset, skewness can be positive, negative, or zero. Positive skewness means that the tail of the distribution is longer on the right side, and the distribution has more outliers on the right side. Negative skewness means that the tail of the distribution is longer on the left side, and the distribution has more outliers on the left side. Zero skewness means that the distribution is perfectly symmetric.\n",
        "\n",
        "Skewness can affect statistical analyses and modeling because many statistical methods assume that the data is normally distributed or symmetric. Skewed data can lead to biased estimates, incorrect inferences, and incorrect conclusions. Therefore, it is important to identify and correct skewness in data before applying statistical methods.\n",
        "\n",
        "Skewness can be measured using statistical methods such as the Pearson's skewness coefficient, the sample skewness, and the moment coefficient of skewness. These methods provide a quantitative measure of the skewness of a distribution."
      ],
      "metadata": {
        "id": "NpoeF41PSG_T"
      }
    },
    {
      "cell_type": "markdown",
      "source": [
        "Q9. If a data is right skewed then what will be the position of median with respect to mean?"
      ],
      "metadata": {
        "id": "D8x2Pdz_Tkeo"
      }
    },
    {
      "cell_type": "markdown",
      "source": [
        "If a data is right skewed, then the median will be less than the mean.\n",
        "\n",
        "In a right-skewed distribution, the tail of the distribution is longer on the right side, which means that there are more values on the right side of the distribution that are farther away from the mean. This leads to a shift in the position of the median towards the lower end of the distribution, while the mean is pulled towards the higher end of the distribution.\n",
        "\n",
        "For example, let's say we have a dataset with the following values: 1, 2, 3, 4, 5, 6, 7, 8, 9, 10, 100. The mean of this dataset is (1+2+3+4+5+6+7+8+9+10+100) / 11 = 15.91, while the median is 6. The dataset is right skewed because of the presence of the outlier value 100. The mean is pulled towards the higher end of the distribution because of this outlier, while the median is not affected by the presence of the outlier and remains at 6. Therefore, in this example, the median is less than the mean."
      ],
      "metadata": {
        "id": "ksBV957tTklH"
      }
    },
    {
      "cell_type": "markdown",
      "source": [
        "Q10. Explain the difference between covariance and correlation. How are these measures used in\n",
        "statistical analysis?"
      ],
      "metadata": {
        "id": "hxyesnkgTphW"
      }
    },
    {
      "cell_type": "markdown",
      "source": [
        "Covariance and correlation are both measures of the relationship between two variables. However, there are some important differences between the two:\n",
        "\n",
        "Covariance is a measure of the direction and strength of the linear relationship between two variables. It measures how much two variables change together, i.e., how much one variable changes as the other variable changes. Covariance can be positive (indicating a positive relationship), negative (indicating a negative relationship), or zero (indicating no relationship). However, covariance does not provide information about the strength of the relationship between two variables or the units of measurement of the variables.\n",
        "\n",
        "Correlation, on the other hand, is a standardized measure of the linear relationship between two variables. It measures the strength of the relationship between two variables on a scale from -1 to 1, where -1 indicates a perfect negative relationship, 0 indicates no relationship, and 1 indicates a perfect positive relationship. Correlation is unitless, which means it does not depend on the units of measurement of the variables.\n",
        "\n",
        "Both covariance and correlation are used in statistical analysis to understand the relationship between two variables. Covariance is commonly used in finance to measure the risk and return of a portfolio of assets. Correlation is used in many fields, including finance, economics, biology, psychology, and social sciences, to study the relationship between variables. Correlation is often used to identify patterns and make predictions. In statistical analysis, both covariance and correlation can help us to identify the nature and strength of the relationship between variables and to make informed decisions based on that relationship."
      ],
      "metadata": {
        "id": "KtDTk0YuT50l"
      }
    },
    {
      "cell_type": "markdown",
      "source": [
        "Q11. What is the formula for calculating the sample mean? Provide an example calculation for a\n",
        "dataset."
      ],
      "metadata": {
        "id": "OotRqJBfdhny"
      }
    },
    {
      "cell_type": "markdown",
      "source": [
        "Sample mean = (sum of all values in the sample) / (number of values in the sample)"
      ],
      "metadata": {
        "id": "r00t6twocae3"
      }
    },
    {
      "cell_type": "code",
      "source": [
        "a = [4, 6, 8, 10, 12, 14, 16, 18, 20, 22 \n",
        "]"
      ],
      "metadata": {
        "id": "xD5xO130dmiz"
      },
      "execution_count": 17,
      "outputs": []
    },
    {
      "cell_type": "code",
      "source": [
        "\n",
        "4 + 6 + 8 + 10 + 12 + 14 + 16 + 18 + 20 + 22 = 120"
      ],
      "metadata": {
        "id": "cFqJ2gAndriF"
      },
      "execution_count": null,
      "outputs": []
    },
    {
      "cell_type": "code",
      "source": [
        "Sample mean = 120 / 10 = 12"
      ],
      "metadata": {
        "id": "KsUj_C0BeBuk"
      },
      "execution_count": null,
      "outputs": []
    },
    {
      "cell_type": "markdown",
      "source": [
        "Q12. For a normal distribution data what is the relationship between its measure of central tendency?"
      ],
      "metadata": {
        "id": "-Pp2WJmFeYsz"
      }
    },
    {
      "cell_type": "markdown",
      "source": [
        "For a normal distribution, the three measures of central tendency - mean, median, and mode - are all equal to each other. This is because the normal distribution is symmetric around its mean, so the median - which is the middle value when the data is arranged in order - will also be the mean.\n",
        "\n",
        "The mode of a normal distribution is also equal to the mean and the median, as the distribution is unimodal and symmetrical around the mean, meaning that there is only one mode and it occurs at the peak of the distribution.\n",
        "\n",
        "Therefore, in a normal distribution, we can use any of these measures of central tendency interchangeably to describe the center of the data."
      ],
      "metadata": {
        "id": "eP8sVcb1eam0"
      }
    },
    {
      "cell_type": "markdown",
      "source": [
        "Q13. How is covariance different from correlation?"
      ],
      "metadata": {
        "id": "nhITcg8QfeRJ"
      }
    },
    {
      "cell_type": "markdown",
      "source": [
        "Covariance and correlation are both measures of the relationship between two variables, but they differ in their properties and interpretations:\n",
        "\n",
        "Definition: Covariance measures how two variables vary together, whereas correlation measures the strength and direction of the linear relationship between two variables.\n",
        "\n",
        "Units of measurement: Covariance is in the units of the product of the two variables, while correlation is unitless as it is standardized by the standard deviation of each variable.\n",
        "\n",
        "Range of values: Covariance can take on any value, positive, negative, or zero, depending on the direction and strength of the relationship between the variables. Correlation, on the other hand, always ranges between -1 (perfect negative correlation) and 1 (perfect positive correlation), with 0 indicating no linear relationship between the variables.\n",
        "\n",
        "Interpretation: A positive covariance indicates that both variables tend to increase or decrease together, while a negative covariance indicates that one variable tends to increase while the other decreases. However, the magnitude of the covariance does not tell us the strength of the relationship. Correlation, on the other hand, provides a standardized measure of the strength of the linear relationship between two variables.\n",
        "\n",
        "Effect of scale: Covariance is affected by changes in the scale of the variables, while correlation is not affected by changes in scale, as it is standardized by the standard deviation of each variable.\n",
        "\n",
        "Therefore, covariance and correlation are similar in that they both measure the relationship between two variables, but they differ in their properties and interpretations.\n",
        "\n",
        "\n",
        "\n"
      ],
      "metadata": {
        "id": "iua2dskhfi9S"
      }
    },
    {
      "cell_type": "markdown",
      "source": [
        "Q14. How do outliers affect measures of central tendency and dispersion? Provide an example."
      ],
      "metadata": {
        "id": "p8x_lIY8gzhm"
      }
    },
    {
      "cell_type": "markdown",
      "source": [
        "Outliers can have a significant effect on measures of central tendency and dispersion, particularly on the mean and standard deviation.\n",
        "\n",
        "Effect on measures of central tendency:\n",
        "\n",
        "The mean is particularly sensitive to outliers because it takes into account all the values in the dataset. An outlier that is much larger or smaller than the other values can pull the mean in the direction of the outlier, leading to a skewed or misleading measure of central tendency. On the other hand, the median and mode are less affected by outliers as they only consider the middle value or the most frequently occurring value in the dataset.\n",
        "\n",
        "Effect on measures of dispersion:\n",
        "\n",
        "Outliers can also have an impact on measures of dispersion such as the range and standard deviation. The range is particularly sensitive to outliers because it is based on the difference between the maximum and minimum values in the dataset. An outlier that is much larger or smaller than the other values can increase or decrease the range significantly. The standard deviation is also affected by outliers because it is based on the distance of each value from the mean. An outlier that is much larger or smaller than the other values can increase the standard deviation, indicating a greater degree of variability in the dataset."
      ],
      "metadata": {
        "id": "33aTGOi5g5tb"
      }
    }
  ]
}